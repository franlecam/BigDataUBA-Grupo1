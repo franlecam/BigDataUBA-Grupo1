{
 "cells": [
  {
   "cell_type": "markdown",
   "id": "52995930",
   "metadata": {},
   "source": [
    "# Trabajo práctico nº 1"
   ]
  },
  {
   "cell_type": "markdown",
   "id": "2d10996f",
   "metadata": {},
   "source": [
    "## Paquetes utilizados y otras configuraciones"
   ]
  },
  {
   "cell_type": "code",
   "execution_count": 1,
   "id": "4d40e422",
   "metadata": {},
   "outputs": [],
   "source": [
    "# Paquetes empleados\n",
    "\n",
    "import pandas as pd\n",
    "# import unicodedata\n",
    "# import numpy as np\n",
    "# import matplotlib.pyplot as plt\n",
    "# import matplotlib.ticker as mtick # para manipular etiquetas de eje\n",
    "# import seaborn as sns\n",
    "\n",
    "# from scipy.stats import ttest_ind # prueba t de student (complemento)"
   ]
  },
  {
   "cell_type": "code",
   "execution_count": 2,
   "id": "d3c2b13c",
   "metadata": {},
   "outputs": [
    {
     "ename": "NameError",
     "evalue": "name 'plt' is not defined",
     "output_type": "error",
     "traceback": [
      "\u001b[1;31m---------------------------------------------------------------------------\u001b[0m",
      "\u001b[1;31mNameError\u001b[0m                                 Traceback (most recent call last)",
      "Cell \u001b[1;32mIn[2], line 3\u001b[0m\n\u001b[0;32m      1\u001b[0m \u001b[38;5;66;03m# Ajustar tamaño de fuente global de gráficos\u001b[39;00m\n\u001b[1;32m----> 3\u001b[0m \u001b[43mplt\u001b[49m\u001b[38;5;241m.\u001b[39mrcParams\u001b[38;5;241m.\u001b[39mupdate({\u001b[38;5;124m'\u001b[39m\u001b[38;5;124mfont.size\u001b[39m\u001b[38;5;124m'\u001b[39m: \u001b[38;5;241m14\u001b[39m})  \u001b[38;5;66;03m# tamaño base de texto\u001b[39;00m\n",
      "\u001b[1;31mNameError\u001b[0m: name 'plt' is not defined"
     ]
    }
   ],
   "source": [
    "# Ajustar tamaño de fuente global de gráficos\n",
    "\n",
    "plt.rcParams.update({'font.size': 14})  # tamaño base de texto"
   ]
  },
  {
   "cell_type": "markdown",
   "id": "24b4b0ef",
   "metadata": {},
   "source": [
    "## Parte I"
   ]
  },
  {
   "cell_type": "markdown",
   "id": "77ffafab",
   "metadata": {},
   "source": [
    "Levantamos la base de datos resultante en el TP 1, según la cual se unieron las bases de EPH de individuos de los trimestres 1 de 2005 junto con la de 2025."
   ]
  },
  {
   "cell_type": "code",
   "execution_count": null,
   "id": "02eaba88",
   "metadata": {},
   "outputs": [],
   "source": [
    "base = pd.read_excel(r\"C:\\Trabajos\\Maestria\\2 año\\Tercer trimestre\\Taller de programación\\BigDataUBA-Grupo1\\BigDataUBA-Grupo1\\TP2\\basei_unida.xlsx\") "
   ]
  },
  {
   "cell_type": "markdown",
   "id": "5f125ead",
   "metadata": {},
   "source": [
    "## Consigna 1"
   ]
  },
  {
   "cell_type": "code",
   "execution_count": 5,
   "id": "76f285b4",
   "metadata": {},
   "outputs": [
    {
     "data": {
      "text/plain": [
       "Index(['CODUSU', 'NRO_HOGAR', 'COMPONENTE', 'H15', 'ANO4', 'TRIMESTRE',\n",
       "       'REGION', 'PONDERA', 'CH04', 'CH06', 'CH07', 'CH08', 'NIVEL_ED',\n",
       "       'ESTADO', 'CAT_INAC', 'IPCF', 'CH15', 'PP02H', 'PP02I', 'PP10A', 'T_VI',\n",
       "       'ITF', 'PP02E', 'PERIODO'],\n",
       "      dtype='object')"
      ]
     },
     "execution_count": 5,
     "metadata": {},
     "output_type": "execute_result"
    }
   ],
   "source": [
    "base.columns"
   ]
  },
  {
   "cell_type": "code",
   "execution_count": null,
   "id": "758428ff",
   "metadata": {},
   "outputs": [],
   "source": [
    "base['edad2'] = base['CH06']^2 # edad al cuadrado\n",
    "\n",
    "base['respondieron'] = base['ITF'] > 0 # 1 si respondieron, 0 si no respondieron\n",
    "\n"
   ]
  }
 ],
 "metadata": {
  "kernelspec": {
   "display_name": "tfenv",
   "language": "python",
   "name": "python3"
  },
  "language_info": {
   "codemirror_mode": {
    "name": "ipython",
    "version": 3
   },
   "file_extension": ".py",
   "mimetype": "text/x-python",
   "name": "python",
   "nbconvert_exporter": "python",
   "pygments_lexer": "ipython3",
   "version": "3.10.18"
  }
 },
 "nbformat": 4,
 "nbformat_minor": 5
}
